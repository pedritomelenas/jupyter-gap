{
 "cells": [
  {
   "cell_type": "markdown",
   "metadata": {},
   "source": [
    "# Examples of error handling"
   ]
  },
  {
   "cell_type": "code",
   "execution_count": null,
   "metadata": {
    "collapsed": false
   },
   "outputs": [
    {
     "name": "stdout",
     "output_type": "stream",
     "text": [
      "An error occurred \n",
      "Syntax error: warning: unbound global variable\n",
      "--> Blabla;\n",
      "Syntax error: := expected\n",
      "--> Blabla;\n"
     ]
    }
   ],
   "source": [
    "prueba:= function(n)\n",
    "    if n>1 then \n",
    "        Print(n);\n",
    "    else\n",
    "        Print(n+1);\n",
    "    fi;\n",
    "    Print(\"blabla\");\n",
    "    Print(\"Blbel\");\n",
    "    Blabla;\n",
    "end;"
   ]
  },
  {
   "cell_type": "code",
   "execution_count": 2,
   "metadata": {
    "collapsed": false
   },
   "outputs": [
    {
     "name": "stdout",
     "output_type": "stream",
     "text": [
      "function( n ) ... end\r\n"
     ]
    }
   ],
   "source": [
    "prueba:= function(n)\n",
    "    if n>1 then \n",
    "        Print(n);\n",
    "    else\n",
    "        Print(n+1);\n",
    "    fi;\n",
    "    Print(\"blabla\");\n",
    "    Print(\"Blbel\");\n",
    "end;"
   ]
  },
  {
   "cell_type": "code",
   "execution_count": null,
   "metadata": {
    "collapsed": false
   },
   "outputs": [
    {
     "name": "stdout",
     "output_type": "stream",
     "text": [
      "An error occurred \n",
      "Syntax error: ; expected\n",
      "--> Print(\"Blbel\");\n"
     ]
    }
   ],
   "source": [
    "prueba:= function(n)\n",
    "    if n>1 then \n",
    "        Print(n);\n",
    "    else\n",
    "        Print(n+1);\n",
    "    fi;\n",
    "    Print(\"blabla\")\n",
    "    Print(\"Blbel\");\n",
    "end;"
   ]
  },
  {
   "cell_type": "code",
   "execution_count": 4,
   "metadata": {
    "collapsed": false
   },
   "outputs": [
    {
     "name": "stdout",
     "output_type": "stream",
     "text": [
      "function( n ) ... end\r\n"
     ]
    }
   ],
   "source": [
    "prueba;"
   ]
  },
  {
   "cell_type": "code",
   "execution_count": 5,
   "metadata": {
    "collapsed": false
   },
   "outputs": [
    {
     "name": "stdout",
     "output_type": "stream",
     "text": [
      "end statement missing\n"
     ]
    }
   ],
   "source": [
    "prueba:=function(n)"
   ]
  },
  {
   "cell_type": "code",
   "execution_count": 6,
   "metadata": {
    "collapsed": false
   },
   "outputs": [
    {
     "name": "stdout",
     "output_type": "stream",
     "text": [
      "2\r\n"
     ]
    }
   ],
   "source": [
    "2"
   ]
  },
  {
   "cell_type": "code",
   "execution_count": 7,
   "metadata": {
    "collapsed": false
   },
   "outputs": [
    {
     "name": "stdout",
     "output_type": "stream",
     "text": []
    }
   ],
   "source": [
    "DeclareGlobalFunction(\"prueba1\");"
   ]
  },
  {
   "cell_type": "code",
   "execution_count": 8,
   "metadata": {
    "collapsed": false
   },
   "outputs": [
    {
     "name": "stdout",
     "output_type": "stream",
     "text": []
    }
   ],
   "source": [
    "InstallGlobalFunction(\"prueba1\", \n",
    "                     function(n)\n",
    "                    return n;\n",
    "                    end );"
   ]
  },
  {
   "cell_type": "code",
   "execution_count": 9,
   "metadata": {
    "collapsed": false
   },
   "outputs": [
    {
     "name": "stdout",
     "output_type": "stream",
     "text": [
      "2\r\n"
     ]
    }
   ],
   "source": [
    "prueba1(2)"
   ]
  },
  {
   "cell_type": "code",
   "execution_count": 11,
   "metadata": {
    "collapsed": false
   },
   "outputs": [
    {
     "name": "stdout",
     "output_type": "stream",
     "text": [
      "end statement missing\n"
     ]
    }
   ],
   "source": [
    "DeclareGlobalFunction(\"prueba2\");\n",
    "InstallGlobalFunction(\"prueba2\", \n",
    "                     function(n)\n",
    "                    return n;\n",
    "                     );"
   ]
  },
  {
   "cell_type": "code",
   "execution_count": null,
   "metadata": {
    "collapsed": false
   },
   "outputs": [
    {
     "name": "stdout",
     "output_type": "stream",
     "text": [
      "An error occurred \n",
      "Syntax error: ) expected\n",
      "--> end;\n"
     ]
    }
   ],
   "source": [
    "DeclareGlobalFunction(\"prueba3\");\n",
    "InstallGlobalFunction(\"prueba3\", \n",
    "                     function(n)\n",
    "                    return n;\n",
    "                    end;"
   ]
  },
  {
   "cell_type": "code",
   "execution_count": null,
   "metadata": {
    "collapsed": true
   },
   "outputs": [],
   "source": []
  }
 ],
 "metadata": {
  "kernelspec": {
   "display_name": "GAP",
   "language": "gap",
   "name": "gap"
  },
  "language_info": {
   "codemirror_mode": "typescript",
   "file_extension": ".g",
   "mimetype": "text/x-gap",
   "name": "gap"
  }
 },
 "nbformat": 4,
 "nbformat_minor": 0
}
